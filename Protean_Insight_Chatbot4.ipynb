{
  "nbformat": 4,
  "nbformat_minor": 0,
  "metadata": {
    "colab": {
      "provenance": [],
      "authorship_tag": "ABX9TyNJ/QjBzkl9K/IkJgk3Vdp9",
      "include_colab_link": true
    },
    "kernelspec": {
      "name": "python3",
      "display_name": "Python 3"
    },
    "language_info": {
      "name": "python"
    }
  },
  "cells": [
    {
      "cell_type": "markdown",
      "metadata": {
        "id": "view-in-github",
        "colab_type": "text"
      },
      "source": [
        "<a href=\"https://colab.research.google.com/github/krupeshpatelms/image-generation-with-pre-trained-models/blob/main/Protean_Insight_Chatbot4.ipynb\" target=\"_parent\"><img src=\"https://colab.research.google.com/assets/colab-badge.svg\" alt=\"Open In Colab\"/></a>"
      ]
    },
    {
      "cell_type": "code",
      "execution_count": null,
      "metadata": {
        "id": "tEDHRRU1xmYD",
        "colab": {
          "base_uri": "https://localhost:8080/"
        },
        "outputId": "5d66617b-f622-462a-c257-e9a3c25045ae"
      },
      "outputs": [
        {
          "output_type": "stream",
          "name": "stdout",
          "text": [
            "✔ Project structure created successfully in /content\n",
            "✔ Template files generated successfully.\n",
            "✔ Installation script created.\n",
            "🚀 Your Protean AI Chatbot project is ready!\n"
          ]
        }
      ],
      "source": [
        "import os\n",
        "\n",
        "# Define project structure\n",
        "project_structure = {\n",
        "    \"ProteanPlusInsightChatbot\": [\n",
        "        \"backend\",\n",
        "        \"frontend\",\n",
        "        \"data\",\n",
        "        \"models\",\n",
        "        \"vector_db\",\n",
        "        \"config\",\n",
        "        \"logs\"\n",
        "    ],\n",
        "    \"backend\": [\"api\", \"scripts\"],\n",
        "    \"frontend\": [\"components\", \"pages\", \"public\"],\n",
        "}\n",
        "\n",
        "# Create folders automatically\n",
        "def create_folders(base_dir, structure):\n",
        "    for parent, sub_dirs in structure.items():\n",
        "        parent_path = os.path.join(base_dir, parent)\n",
        "        os.makedirs(parent_path, exist_ok=True)\n",
        "        for sub_dir in sub_dirs:\n",
        "            os.makedirs(os.path.join(parent_path, sub_dir), exist_ok=True)\n",
        "\n",
        "    print(f\"✔ Project structure created successfully in {base_dir}\")\n",
        "\n",
        "# Generate template files\n",
        "def create_template_files(base_dir):\n",
        "    backend_path = os.path.join(base_dir, \"backend\", \"api\", \"main.py\")\n",
        "    frontend_path = os.path.join(base_dir, \"frontend\", \"App.js\")\n",
        "\n",
        "    # FastAPI Backend template\n",
        "    with open(backend_path, \"w\") as f:\n",
        "        f.write('''\n",
        "from fastapi import FastAPI\n",
        "\n",
        "app = FastAPI()\n",
        "\n",
        "@app.get(\"/\")\n",
        "def home():\n",
        "    return {\"message\": \"Protean AI Chatbot Backend Running\"}\n",
        "\n",
        "if __name__ == \"__main__\":\n",
        "    import uvicorn\n",
        "    uvicorn.run(app, host=\"0.0.0.0\", port=8000)\n",
        "''')\n",
        "\n",
        "    # React Frontend template\n",
        "    with open(frontend_path, \"w\") as f:\n",
        "        f.write('''\n",
        "import React from \"react\";\n",
        "\n",
        "function App() {\n",
        "    return (\n",
        "        <div>\n",
        "            <h1>Protean AI Chatbot Frontend Running</h1>\n",
        "        </div>\n",
        "    );\n",
        "}\n",
        "\n",
        "export default App;\n",
        "''')\n",
        "\n",
        "    print(\"✔ Template files generated successfully.\")\n",
        "\n",
        "# Install dependencies script\n",
        "def create_install_script(base_dir):\n",
        "    script_path = os.path.join(base_dir, \"install_dependencies.sh\")\n",
        "\n",
        "    with open(script_path, \"w\") as f:\n",
        "        f.write('''\n",
        "#!/bin/bash\n",
        "echo \"Installing Backend Dependencies...\"\n",
        "pip install fastapi uvicorn sentence-transformers weaviate-client\n",
        "\n",
        "echo \"Installing Frontend Dependencies...\"\n",
        "cd frontend\n",
        "npm install\n",
        "\n",
        "echo \"✔ Dependencies installed successfully.\"\n",
        "''')\n",
        "\n",
        "    print(\"✔ Installation script created.\")\n",
        "\n",
        "# Execute folder setup\n",
        "base_directory = os.getcwd()\n",
        "create_folders(base_directory, project_structure)\n",
        "create_template_files(base_directory)\n",
        "create_install_script(base_directory)\n",
        "\n",
        "print(\"🚀 Your Protean AI Chatbot project is ready!\")\n"
      ]
    },
    {
      "cell_type": "code",
      "source": [
        "from google.colab import drive\n",
        "drive.mount('/content/drive')"
      ],
      "metadata": {
        "id": "Qgs5qTNpzi72"
      },
      "execution_count": null,
      "outputs": []
    }
  ]
}